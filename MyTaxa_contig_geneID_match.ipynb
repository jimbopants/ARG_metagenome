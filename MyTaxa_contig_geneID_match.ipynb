{
 "cells": [
  {
   "cell_type": "markdown",
   "metadata": {},
   "source": [
    "# Merging taxonomy w/ ARG types\n",
    "\n",
    "Documentation:\n",
    "The goal of this workbook is to merge taxonomy, gene_ID, contig_ID, and antibiotic resistance gene information into a single flat file.\n",
    "\n",
    "The file inputs:\n",
    "xx_MyTaxa_Input.txt -> Links gene_ID and contig_ID (gene_to_contig)\n",
    "xx_MyTaxa_Output.txt -> Links contig_ID & taxonomy (contig_to_tax)\n",
    "xx_sub_dict_output -> Links gene_ID & ARG_type (full_data)\n",
    "\n",
    "Done:\n",
    "Directory import\n",
    "Matching\n",
    "Some tests (uniqueness and size of unions)\n",
    "Plotting percent classification\n",
    "\n",
    "\n",
    "Notes/to do:\n",
    "Transfer to script that takes command line arguments\n"
   ]
  },
  {
   "cell_type": "markdown",
   "metadata": {},
   "source": [
    "### Function definitions"
   ]
  },
  {
   "cell_type": "code",
   "execution_count": 1,
   "metadata": {
    "collapsed": false
   },
   "outputs": [],
   "source": [
    "\n",
    "\n",
    "def add_Taxonomy(full_data_df, contig_to_tax_df):\n",
    "    \"\"\" Adds taxonomy to full_data_df. Handles missing values in contig column by appending \"Unclassified\" to \n",
    "    full_data_w_taxonomy.\n",
    "\n",
    "Inputs\n",
    "    full_data_df     [DataFrame] - Contains a column contig that may contain missing values.\n",
    "    contig_to_tax_df [DataFrame] - Dataframe with contigs in column (Name) & 8 taxonomy columns.\n",
    "    \n",
    "Returns\n",
    "    full_data_w_tax: [pandas DataFrame] - Updated full_data_df with taxonomy columns.\n",
    "    \"\"\"\n",
    "    \n",
    "    # Initialize timer & new dataframe with taxonomy columns.\n",
    "    start = time.time()\n",
    "    ind=0\n",
    "    new_cols = full_data_df.columns.values.tolist() +  contig_to_tax_df.columns[1:].values.tolist()\n",
    "    full_data_w_tax = pd.DataFrame(index=full_data_df.index, columns=new_cols)\n",
    "    contigs = full_data_df['contig']\n",
    "    \n",
    "    # Iterate thru rows and add taxonomy.\n",
    "    for i in full_data.iterrows():\n",
    "        original_values =  i[1].values.tolist()\n",
    "        # Exception handling for missing taxonomy.\n",
    "        try:\n",
    "            taxonomy_list = contig_to_tax[contig_to_tax['Name'] == i[1].contig].ix[:,1:].values.tolist()[0]\n",
    "        except IndexError:\n",
    "            taxonomy_list = ['Unclassified']*8\n",
    "\n",
    "        full_row_w_tax = original_values + taxonomy_list\n",
    "        full_data_w_tax.ix[i[0],:] = full_row_w_tax\n",
    "    \n",
    "    # Progress indicator\n",
    "        ind+=1\n",
    "        if ind%10000==0:\n",
    "            now = time.time()\n",
    "            elapsed = now - start\n",
    "            print '{0} complete!\\n Total time = {1} seconds'.format(ind, elapsed)\n",
    "\n",
    "    \n",
    "    return full_data_w_tax\n",
    "\n",
    "\n",
    "def add_Gene_IDs(gene_to_contig_df, full_df, gene_col, contig_col):\n",
    "    \"\"\" Adds the gene_IDs in gene_to_contig to the full dataframe. First dereplicates gene_to_contig, \n",
    "    then generates a list of contigs from the gene_indexes in full dataframe.\n",
    "    Lastly, appends contig_ids to the full dataframe. \n",
    "    \n",
    "    Returns modified full_df.\n",
    "    \"\"\"\n",
    "    \n",
    "    # Remove duplicates from the gene_to_contig dataframe\n",
    "    gene_to_contig_abridged = gene_to_contig_df.groupby([gene_col, contig_col]).count()\n",
    "    \n",
    "    # Save dereplicated results as a dataframe and reset index.\n",
    "    gtca = pd.DataFrame(gene_to_contig_abridged.to_records())\n",
    "    gtca.set_index(gene_col, inplace=True)\n",
    "\n",
    "    # Get a list of the indexes for the gene-to-contig dataframe.\n",
    "    gene_IDs = full_df['qseq_ID'].values.tolist()\n",
    "    contigs_column = gtca.loc[gene_IDs][contig_col].values\n",
    "    full_df['contig'] = contigs_column  \n",
    "    \n",
    "    return full_df\n",
    "\n",
    "\n",
    "def directory_Import(directory):\n",
    "    \"\"\" Template for automating directory import. Assumes it contains at least the 3 files used in this workbook.\"\"\"\n",
    "    \n",
    "    files_list = glob.glob(directory)\n",
    "    assert len(files_list) != 0, \"Check that directory {0} exists & contains specified files\".format(directory)\n",
    "    \n",
    "    for i in files_list:\n",
    "        if 'MyTaxa_Input' in i:\n",
    "            gene_to_contig = pd.read_csv(i, sep=\"\\t\", header=None, names=['gene_ID', 'sseqid', 'pident', \\\n",
    "            'length', 'mismatch', 'gapopen', 'qstart', 'qend', 'sstart', 'send', 'evalue', 'bitscore', \\\n",
    "            'contig_ID', 'gene_ID2', 'thing'], index_col=1) \n",
    "            \n",
    "        elif 'Output_Sorted' in i:\n",
    "            contig_to_tax = pd.read_csv(i, sep=\"\\t\", header=0, index_col=0)\n",
    "        elif 'dict_output' in i:\n",
    "            full_data = pd.read_csv(i, sep=\"\\t\", header=0)\n",
    "    return gene_to_contig, contig_to_tax, full_data\n",
    "\n",
    "def test_Unique(df, column):\n",
    "    \"\"\" Tests to see if a column of a dataframe contains repeated values\"\"\"\n",
    "    df_len = len(df)\n",
    "    col_len = len(df[column].unique())\n",
    "    print \"Dataframe length: {0}\\nUnique entries in column [{1}]: {2}\\n\".format(\n",
    "                            df_len, column, col_len)\n",
    "    return df_len == col_len\n",
    "\n",
    "def Union_Between_Dataframes(df1, df2, col_1, col_2):\n",
    "    \"\"\" Tests for the size of the union between df1[col2] and df2[col2] \"\"\"\n",
    "    df1_ids = set(df1[col_1].values.tolist())\n",
    "    df2_ids = set(df2[col_2].values.tolist())\n",
    "    \n",
    "    union = len(set.union(df1_ids, df2_ids))\n",
    "    print \"df_1: {0}\\ndf_2: {1}\\nUnion size: {2}\".format(len(df1), len(df2), union)\n",
    "    return union"
   ]
  },
  {
   "cell_type": "markdown",
   "metadata": {},
   "source": [
    "### Imports"
   ]
  },
  {
   "cell_type": "code",
   "execution_count": 2,
   "metadata": {
    "collapsed": false
   },
   "outputs": [
    {
     "name": "stderr",
     "output_type": "stream",
     "text": [
      "/Users/jimbo/anaconda/lib/python2.7/site-packages/matplotlib/__init__.py:872: UserWarning: axes.color_cycle is deprecated and replaced with axes.prop_cycle; please use the latter.\n",
      "  warnings.warn(self.msg_depr % (key, alt_key))\n"
     ]
    }
   ],
   "source": [
    "# imports\n",
    "import pandas as pd\n",
    "import numpy as np\n",
    "import time\n",
    "import glob\n",
    "\n",
    "# plotting\n",
    "import matplotlib.pyplot as plt\n",
    "import seaborn as sns\n",
    "from matplotlib_venn import venn2\n",
    "%matplotlib inline"
   ]
  },
  {
   "cell_type": "markdown",
   "metadata": {},
   "source": [
    "### Main"
   ]
  },
  {
   "cell_type": "code",
   "execution_count": 3,
   "metadata": {
    "collapsed": false,
    "scrolled": false
   },
   "outputs": [
    {
     "name": "stderr",
     "output_type": "stream",
     "text": [
      "/Users/jimbo/anaconda/lib/python2.7/site-packages/IPython/core/interactiveshell.py:2902: DtypeWarning: Columns (16) have mixed types. Specify dtype option on import or set low_memory=False.\n",
      "  interactivity=interactivity, compiler=compiler, result=result)\n"
     ]
    }
   ],
   "source": [
    "# import data\n",
    "ex_directory = \"/Users/jimbo/Documents/Work/George_Wells_lab/Projects/ARG_metagenome/Classifying_ARG_taxonomy/BF3_data/*\"\n",
    "gene_to_contig, contig_to_tax, full_data = directory_Import(ex_directory)\n",
    "\n",
    "# Add contig to full_data.\n",
    "full_data = add_Gene_IDs(gene_to_contig, full_data, 'gene_ID', 'contig_ID')\n",
    "\n",
    "\n",
    "# Skip tax assignment if full_data_w_tax already exists in directory\n",
    "try:\n",
    "    full_data_w_tax = pd.read_csv('../Classifying_ARG_taxonomy/BF3_data/full_data_w_tax.txt', sep=\"\\t\")\n",
    "except:\n",
    "    print \"ARG file with taxonomy not found. Adding taxonomy. This will take a few minutes.\"\n",
    "    \n",
    "if full_data_w_tax is None:\n",
    "# Add taxonomy to full_data\n",
    "    full_data_w_tax = add_Taxonomy(full_data, contig_to_tax)\n",
    "    full_data_w_tax.to_csv(\"../Classifying_ARG_taxonomy/BF3_data/full_data_w_tax.txt\", sep=\"\\t\")"
   ]
  },
  {
   "cell_type": "code",
   "execution_count": null,
   "metadata": {
    "collapsed": false
   },
   "outputs": [],
   "source": []
  },
  {
   "cell_type": "markdown",
   "metadata": {},
   "source": [
    "## Ignore below for now"
   ]
  },
  {
   "cell_type": "markdown",
   "metadata": {
    "collapsed": true
   },
   "source": [
    "# Defining classification rate\n",
    "\n",
    "In addition to merging the raw classification data, it would be useful to know what percent of ARG genes can be assigned to taxonomy based on the current myTaxa contig classification strategy. From last week's glance, it seems like a lot of ARG contigs were not taxonomically classified but I'd like to understand this in more detail. \n",
    "\n",
    "I also would like to get a sense of (real or artificial) enrichment of ARGs in certain taxa. For this we can plot the ARG taxa classification vs the bulk contig classification and see how they differ. This might not actually make sense with the files I have depending on what processing has already been applied to the contig classification file but the plotting code should be useful regardless.\n",
    "\n",
    "Output:\n",
    "1. Quick stats about overlap between contigs, gene_IDs and taxonomy. # of Unique values of each per file, distribution and overlap between file types.\n",
    "\n",
    "2. Plot of ARG taxa classification and contig classification + difference by phyla\n"
   ]
  },
  {
   "cell_type": "code",
   "execution_count": null,
   "metadata": {
    "collapsed": false
   },
   "outputs": [],
   "source": [
    "# Random comparisons I was doing to see how many unique values there are and if they overlap.\n",
    "\n",
    "### Testing repeated entries\n",
    "test_Unique(full_data,  'qseq_ID')\n",
    "test_Unique(contig_to_tax, 'Name')\n",
    "test_Unique(gene_to_contig, 'gene_ID')\n",
    "test_Unique(gene_to_contig, 'contig_ID')\n",
    "\n",
    "# Size of union\n",
    "Union_Between_Dataframes(full_data, gene_to_contig, 'qseq_ID', 'gene_ID')"
   ]
  },
  {
   "cell_type": "markdown",
   "metadata": {},
   "source": [
    "### Part II Functions"
   ]
  },
  {
   "cell_type": "code",
   "execution_count": null,
   "metadata": {
    "collapsed": true
   },
   "outputs": [],
   "source": [
    "def prepare_Qiime_Barplot(rRNA_path, sample_ID, cutoff):\n",
    "    \"\"\" Takes:\n",
    "    rRNA_path: taxonomy summary filepath produced by QIIME summarize_taxa.py\n",
    "    sample_ID: column header in taxonomy file\n",
    "    cutoff: Threshold for including taxa in barplot.\n",
    "    \n",
    "    Returns: Tabular data to be plotted next to ARG data.\n",
    "    \"\"\"\n",
    "    \n",
    "    # Import data\n",
    "    rRNA_only_data = pd.read_csv(rRNA_path, sep=\"\\t\", header=1, index_col=0)\n",
    "    rRNA_subset = rRNA_only_data.ix[rRNA_only_data[sample_ID] > cutoff]\n",
    "    rRNA_subset = rRNA_subset[sample_ID].sort_values(ascending=False)\n",
    "\n",
    "    return rRNA_subset # Or just make a call to a plotting function."
   ]
  },
  {
   "cell_type": "markdown",
   "metadata": {},
   "source": [
    "### Part II Main"
   ]
  },
  {
   "cell_type": "code",
   "execution_count": null,
   "metadata": {
    "collapsed": true
   },
   "outputs": [],
   "source": [
    "rRNA_path = \"../16s_tax_class/qiime_labeled/clustered_first/tax_sum/otu_table_L3.txt\"\n",
    "rRNA_only_data = pd.read_csv(rRNA_path, sep=\"\\t\", header=1, index_col=0)\n",
    "rRNA_subset = rRNA_only_data.ix[rRNA_only_data['BF3'] >.005]\n",
    "\n",
    "\n",
    "rRNA_sub = prepare_Qiime_Barplot(rRNA_path, 'BF3', .005)\n",
    "rRNA_tax_names = [x.split(\"__\")[-1] for x in rRNA_sub.index]\n",
    "#rRNA_sub.ix[:,'names'] = rRNA_tax_names"
   ]
  },
  {
   "cell_type": "code",
   "execution_count": null,
   "metadata": {
    "collapsed": false
   },
   "outputs": [],
   "source": [
    "# I just want to get some super simple shit working before I send it.\n",
    "\n",
    "#the file morgan sent was the full_dict file after removing duplicates.\n",
    "arg_genes_unfucked = pd.read_csv(\"/Users/jimbo/Downloads/BF3_bh_10_70_50_aa_sub_dict_output.txt\", sep=\"\\t\", header=0)\n",
    "test_Unique(arg_genes_unfucked, 'qseq_ID')"
   ]
  },
  {
   "cell_type": "code",
   "execution_count": null,
   "metadata": {
    "collapsed": true
   },
   "outputs": [],
   "source": [
    "# 3 part venn diagram->\n",
    "# A. gene_ids in full_data,\n",
    "# B. gene_ids in myTaxa_in\n",
    "# C. # of Contigs w/ ta\n",
    "# contigs in myTaxa output"
   ]
  },
  {
   "cell_type": "code",
   "execution_count": null,
   "metadata": {
    "collapsed": false
   },
   "outputs": [],
   "source": [
    "# gathering abundances by taxonomic classification level.\n",
    "\n",
    "# unknown = myTaxa tried and could not assign taxonomy at this level\n",
    "# unclassified = Contig was missing from myTaxa_output file.\n",
    "\n",
    "#phyla_abundances = full_data_w_tax[\n",
    "#full_data_w_tax['<phylum>']\n",
    "taxonomic_levels = ['<superkingdom>', '<phylum>',\n",
    "       '<class>', u'<order>', u'<family>', u'<genus>', u'<species>',\n",
    "       u'<superphylum>']\n",
    "\n",
    "\n",
    "full_data_w_tax[taxonomic_levels[2]].value_counts()['Unclassified']#/len(full_data_w_tax)"
   ]
  },
  {
   "cell_type": "code",
   "execution_count": null,
   "metadata": {
    "collapsed": false
   },
   "outputs": [],
   "source": [
    "def bar_Plot_Classification():\n",
    "    return\n",
    "\n",
    "unclassified = full_data_w_tax[taxonomic_levels[1]].value_counts()['Unclassified']/float(len(full_data_w_tax))\n",
    "classified = 1 - unclassified\n",
    "\n",
    "print \"Total ARG hits: {0}\".format(len)\n",
    "print \"Percent of found ARGS on contigs assigned to taxonomy\"\n"
   ]
  },
  {
   "cell_type": "code",
   "execution_count": null,
   "metadata": {
    "collapsed": false
   },
   "outputs": [],
   "source": [
    "# %Classified, annotate plot with this.\n",
    "unclassified = full_data_w_tax[taxonomic_levels[1]].value_counts()['Unclassified']/float(len(full_data_w_tax))\n",
    "classified = 1 - unclassified\n",
    "\n",
    "\n",
    "\n",
    "\n",
    "# barplot\n",
    "series = full_data_w_tax[taxonomic_levels[2]].value_counts()\n",
    "series_length = series[1:].sum()\n",
    "\n",
    "colors = sns.color_palette('Set2', 10)\n",
    "\n",
    "last=0\n",
    "j=0\n",
    "f,ax = plt.subplots()\n",
    "for i in series[1:].iteritems():\n",
    "    print i\n",
    "    ax.bar(.5, i[1], width=.5, bottom = last, label=i[0], color=colors[j])\n",
    "    last = last + i[1]\n",
    "    j+=1\n",
    "ax.set_xlim([0,1.5])\n",
    "\n",
    "\n",
    "# Put a legend to the right of the current axis\n",
    "handles, labels = ax.get_legend_handles_labels()\n",
    "handles.reverse()\n",
    "labels.reverse()\n",
    "lgd = ax.legend(handles=handles, labels=labels, loc='center left', bbox_to_anchor=(1, 0.5), fontsize=13)\n",
    "\n",
    "\n",
    "plt.show()"
   ]
  },
  {
   "cell_type": "code",
   "execution_count": null,
   "metadata": {
    "collapsed": false
   },
   "outputs": [],
   "source": [
    "\n",
    "\n",
    "\n",
    "\n"
   ]
  },
  {
   "cell_type": "code",
   "execution_count": null,
   "metadata": {
    "collapsed": false
   },
   "outputs": [],
   "source": [
    "from_rRNA = pd.DataFrame(index=rRNA_tax_names, data = rRNA_sub.values, columns=['Relative_16S'])\n",
    "from_rRNA\n",
    "series = full_data_w_tax[taxonomic_levels[2]].value_counts()\n",
    "#print series\n",
    "series = series[2:]/series[2:].sum()\n",
    "#print series\n",
    "series_as_df = pd.DataFrame(index=series.index, data=series.values, columns=['ARG Taxonomy'])\n",
    "#print series_as_df\n",
    "rRNA_and_ARG = from_rRNA.join(series_as_df, how='outer')\n",
    "#print rRNA_and_ARG\n",
    "rRNA_and_ARG.sort_values('Relative_16S', ascending=False, inplace=True)\n",
    "\n",
    "\n",
    "f,ax = plt.subplots()\n",
    "names = rRNA_and_ARG.index\n",
    "last_left=0\n",
    "last_right=0\n",
    "j=0\n",
    "\n",
    "colors = sns.color_palette('Set2', len(rRNA_and_ARG))\n",
    "rRNA_and_ARG.fillna(value=0, inplace=True)\n",
    "\n",
    "for i in rRNA_and_ARG.iterrows():\n",
    "    ax.bar(1, i[1][0], width=.5, bottom = last_left, label=i[0], color=cmap[j])\n",
    "    ax.bar(2, i[1][1], width=.5, bottom = last_right, color=cmap[j])\n",
    "    last_left = i[1][0] + last_left\n",
    "    last_right = i[1][1] + last_right\n",
    "    j+=1\n",
    "\n",
    "handles, labels = ax.get_legend_handles_labels()\n",
    "handles.reverse()\n",
    "labels.reverse()\n",
    "ax.set_xlim([0,3])\n",
    "ax.set_xticks([])\n",
    "lgd = ax.legend(handles=handles, labels=labels, loc='center left', bbox_to_anchor=(1, 0.5), fontsize=13)\n",
    "\n",
    "plt.show()\n",
    "    "
   ]
  },
  {
   "cell_type": "code",
   "execution_count": null,
   "metadata": {
    "collapsed": false
   },
   "outputs": [],
   "source": [
    "### importing 16s data from metagenome classification:\n",
    "\n",
    "# re-order by size.\n",
    "rRNA_subset = rRNA_subset['BF3'].sort_values(ascending=False)\n",
    "\n",
    "# init colors\n",
    "colors = sns.color_palette('Set2', 12)\n",
    "\n",
    "# stacked bar plot\n",
    "last=0\n",
    "j=0\n",
    "f,ax=plt.subplots()\n",
    "for i in rRNA_subset.iteritems():\n",
    "    name = i[0].split(\"__\")[-1]\n",
    "    ax.bar(1, i[1], width=1, bottom = last, label=name+\" : \"+str(round(i[1],3)), color=cmap[j])\n",
    "    last = last + i[1]\n",
    "    j+=1\n",
    "ax.set_xlim([0,3])\n",
    "    \n",
    "handles, labels = ax.get_legend_handles_labels()\n",
    "handles.reverse()\n",
    "labels.reverse()\n",
    "lgd = ax.legend(handles=handles, labels=labels, loc='center left', bbox_to_anchor=(1, 0.5), fontsize=13)\n"
   ]
  },
  {
   "cell_type": "code",
   "execution_count": null,
   "metadata": {
    "collapsed": false
   },
   "outputs": [],
   "source": [
    "round(.0116543,3)"
   ]
  },
  {
   "cell_type": "code",
   "execution_count": null,
   "metadata": {
    "collapsed": true
   },
   "outputs": [],
   "source": [
    "?round"
   ]
  },
  {
   "cell_type": "code",
   "execution_count": null,
   "metadata": {
    "collapsed": false
   },
   "outputs": [],
   "source": [
    "cmap = sns.color_palette('dark', n_colors=6)\n",
    "cmap2 = sns.color_palette('colorblind', n_colors=6)\n",
    "cmap3 = sns.color_palette('muted', n_colors=6)\n",
    "cmap = cmap + cmap2 + cmap3[:-1] + sns.xkcd_palette([\"greyish\"])\n",
    "#random.shuffle(cmap)\n",
    "sns.palplot(cmap)"
   ]
  },
  {
   "cell_type": "code",
   "execution_count": null,
   "metadata": {
    "collapsed": true
   },
   "outputs": [],
   "source": []
  }
 ],
 "metadata": {
  "kernelspec": {
   "display_name": "Python 2",
   "language": "python",
   "name": "python2"
  },
  "language_info": {
   "codemirror_mode": {
    "name": "ipython",
    "version": 2
   },
   "file_extension": ".py",
   "mimetype": "text/x-python",
   "name": "python",
   "nbconvert_exporter": "python",
   "pygments_lexer": "ipython2",
   "version": "2.7.11"
  }
 },
 "nbformat": 4,
 "nbformat_minor": 0
}
